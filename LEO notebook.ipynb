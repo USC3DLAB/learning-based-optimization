{
 "cells": [
  {
   "cell_type": "markdown",
   "metadata": {},
   "source": [
    "# Welcome to Learning Enabled Optimization(LEO) Software"
   ]
  },
  {
   "cell_type": "markdown",
   "metadata": {},
   "source": [
    "## What does this software do?"
   ]
  },
  {
   "cell_type": "markdown",
   "metadata": {},
   "source": [
    "The goal of this software is to allow users to create **statistical learning (SL)** models from data, and then use these models within **optimization models besed on stochastic programming(SP)**. As part of this process, we also support **model validation and selection**."
   ]
  },
  {
   "cell_type": "markdown",
   "metadata": {},
   "source": [
    "## What will you need to do to use LEO?"
   ]
  },
  {
   "cell_type": "markdown",
   "metadata": {},
   "source": [
    "### Initialization"
   ]
  },
  {
   "cell_type": "code",
   "execution_count": 15,
   "metadata": {},
   "outputs": [],
   "source": [
    "import sys\n",
    "import os\n",
    "import  csv \n",
    "import time\n",
    "import shutil\n",
    "from pathlib import Path\n",
    "import numpy as np\n",
    "import pandas as pd\n",
    "from pandas import DataFrame\n",
    "import matplotlib.pyplot as plt\n",
    "import scipy.stats"
   ]
  },
  {
   "cell_type": "markdown",
   "metadata": {},
   "source": [
    "### 0. New Project:"
   ]
  },
  {
   "cell_type": "markdown",
   "metadata": {},
   "source": [
    " #### 0.1 Generate a new project."
   ]
  },
  {
   "cell_type": "code",
   "execution_count": 5,
   "metadata": {},
   "outputs": [],
   "source": [
    "project_name = 'test01'\n",
    "project_folder = Path(Path('./projects')/project_name)"
   ]
  },
  {
   "cell_type": "code",
   "execution_count": 9,
   "metadata": {},
   "outputs": [],
   "source": [
    "if os.path.exists(project_folder):\n",
    "    shutil.rmtree(project_folder)\n",
    "\n",
    "os.makedirs(project_folder)\n",
    "child_folder = ['SL', 'SP_input', 'SP_output', 'Val_output_within_run', 'Val_output_across_run']\n",
    "for i in child_folder:\n",
    "    os.makedirs(Path(project_folder)/i)"
   ]
  },
  {
   "cell_type": "markdown",
   "metadata": {},
   "source": [
    "#### 0.2 Generate a log file(.txt)."
   ]
  },
  {
   "cell_type": "code",
   "execution_count": 13,
   "metadata": {},
   "outputs": [],
   "source": [
    "log_file_name = 'log_data_' + time.strftime('%b_%d_%Y_%H_%M_%S',time.localtime(time.time())) + '.txt'\n",
    "file = Path(project_folder/log_file_name)\n",
    "f = open(file, 'a')\n",
    "f.write('This is the log file for project ' + project_name + \n",
    "        ', generated at ' + time.strftime('%b_%d_%Y_%H_%M_%S',time.localtime(time.time())) + '.\\n')\n",
    "f.close()"
   ]
  },
  {
   "cell_type": "markdown",
   "metadata": {},
   "source": [
    "### 1. SL data:"
   ]
  },
  {
   "cell_type": "markdown",
   "metadata": {},
   "source": [
    "#### 1.1 The SL training dataset should be processed using SL models available to the user (e.g. R, Matlab)."
   ]
  },
  {
   "cell_type": "markdown",
   "metadata": {},
   "source": [
    "#### 1.2 After processing the data in 1.1, import SL data and error terms."
   ]
  },
  {
   "cell_type": "code",
   "execution_count": 38,
   "metadata": {},
   "outputs": [],
   "source": [
    "train_err_term_fl = './data_for_test/DF_Train1.csv'\n",
    "val_err_term_fl = './data_for_test/DF_Val1.csv'\n",
    "train_err_term = pd.read_csv(traindt_err_term, sep='\\n',header=None)\n",
    "val_err_term = pd.read_csv(valdt_err_term, sep='\\n',header=None)"
   ]
  },
  {
   "cell_type": "code",
   "execution_count": 39,
   "metadata": {},
   "outputs": [
    {
     "data": {
      "text/html": [
       "<div>\n",
       "<style scoped>\n",
       "    .dataframe tbody tr th:only-of-type {\n",
       "        vertical-align: middle;\n",
       "    }\n",
       "\n",
       "    .dataframe tbody tr th {\n",
       "        vertical-align: top;\n",
       "    }\n",
       "\n",
       "    .dataframe thead th {\n",
       "        text-align: right;\n",
       "    }\n",
       "</style>\n",
       "<table border=\"1\" class=\"dataframe\">\n",
       "  <thead>\n",
       "    <tr style=\"text-align: right;\">\n",
       "      <th></th>\n",
       "      <th>0</th>\n",
       "    </tr>\n",
       "  </thead>\n",
       "  <tbody>\n",
       "    <tr>\n",
       "      <th>0</th>\n",
       "      <td>42016</td>\n",
       "    </tr>\n",
       "    <tr>\n",
       "      <th>1</th>\n",
       "      <td>40525</td>\n",
       "    </tr>\n",
       "    <tr>\n",
       "      <th>2</th>\n",
       "      <td>41374</td>\n",
       "    </tr>\n",
       "    <tr>\n",
       "      <th>3</th>\n",
       "      <td>40350</td>\n",
       "    </tr>\n",
       "    <tr>\n",
       "      <th>4</th>\n",
       "      <td>41935</td>\n",
       "    </tr>\n",
       "  </tbody>\n",
       "</table>\n",
       "</div>"
      ],
      "text/plain": [
       "       0\n",
       "0  42016\n",
       "1  40525\n",
       "2  41374\n",
       "3  40350\n",
       "4  41935"
      ]
     },
     "execution_count": 39,
     "metadata": {},
     "output_type": "execute_result"
    }
   ],
   "source": [
    "train_err_term.head()"
   ]
  },
  {
   "cell_type": "code",
   "execution_count": 40,
   "metadata": {},
   "outputs": [
    {
     "data": {
      "text/html": [
       "<div>\n",
       "<style scoped>\n",
       "    .dataframe tbody tr th:only-of-type {\n",
       "        vertical-align: middle;\n",
       "    }\n",
       "\n",
       "    .dataframe tbody tr th {\n",
       "        vertical-align: top;\n",
       "    }\n",
       "\n",
       "    .dataframe thead th {\n",
       "        text-align: right;\n",
       "    }\n",
       "</style>\n",
       "<table border=\"1\" class=\"dataframe\">\n",
       "  <thead>\n",
       "    <tr style=\"text-align: right;\">\n",
       "      <th></th>\n",
       "      <th>0</th>\n",
       "    </tr>\n",
       "  </thead>\n",
       "  <tbody>\n",
       "    <tr>\n",
       "      <th>0</th>\n",
       "      <td>40298</td>\n",
       "    </tr>\n",
       "    <tr>\n",
       "      <th>1</th>\n",
       "      <td>40175</td>\n",
       "    </tr>\n",
       "    <tr>\n",
       "      <th>2</th>\n",
       "      <td>41097</td>\n",
       "    </tr>\n",
       "    <tr>\n",
       "      <th>3</th>\n",
       "      <td>40390</td>\n",
       "    </tr>\n",
       "    <tr>\n",
       "      <th>4</th>\n",
       "      <td>40438</td>\n",
       "    </tr>\n",
       "  </tbody>\n",
       "</table>\n",
       "</div>"
      ],
      "text/plain": [
       "       0\n",
       "0  40298\n",
       "1  40175\n",
       "2  41097\n",
       "3  40390\n",
       "4  40438"
      ]
     },
     "execution_count": 40,
     "metadata": {},
     "output_type": "execute_result"
    }
   ],
   "source": [
    "val_err_term.head()"
   ]
  },
  {
   "cell_type": "markdown",
   "metadata": {},
   "source": [
    "#### 1.3 Once step 1.2 in completed, LEO software will perform a χ2-test to identify outliers."
   ]
  },
  {
   "cell_type": "code",
   "execution_count": 41,
   "metadata": {},
   "outputs": [],
   "source": [
    "chi4err = scipy.stats.chisquare(train_err_term, val_err_term)"
   ]
  },
  {
   "cell_type": "code",
   "execution_count": 42,
   "metadata": {},
   "outputs": [
    {
     "data": {
      "text/plain": [
       "0.0"
      ]
     },
     "execution_count": 42,
     "metadata": {},
     "output_type": "execute_result"
    }
   ],
   "source": [
    "chi4err.pvalue[0]"
   ]
  },
  {
   "cell_type": "markdown",
   "metadata": {},
   "source": [
    "### 2. SP model: choose one of the following:"
   ]
  },
  {
   "cell_type": "markdown",
   "metadata": {},
   "source": [
    "#### 2.1 Use PySP to generate input files for Stochastic Decomposition(SD)"
   ]
  },
  {
   "cell_type": "code",
   "execution_count": null,
   "metadata": {},
   "outputs": [],
   "source": []
  },
  {
   "cell_type": "markdown",
   "metadata": {},
   "source": [
    "#### 2.2 Create SMPS input files and then run the SD solver within LEO"
   ]
  },
  {
   "cell_type": "markdown",
   "metadata": {},
   "source": [
    "#### 2.3 Use some other SP solver which provides the first-stage decision and the second-stage cost-to-go (recourse) function\n"
   ]
  },
  {
   "cell_type": "markdown",
   "metadata": {},
   "source": [
    "### 3. Validation data"
   ]
  },
  {
   "cell_type": "markdown",
   "metadata": {},
   "source": [
    "#### 3.1 Import training and validation cost-to-go dataset(In the Model Validation Menu)."
   ]
  },
  {
   "cell_type": "code",
   "execution_count": null,
   "metadata": {},
   "outputs": [],
   "source": [
    "traindt_err_term = './data_for_test/DF_Train1.csv'\n",
    "valdt_err_term = './data_for_test/DF_Val1.csv'\n",
    "train_data = pd.read_csv(traindt_err_term, sep='\\n',header=None)\n",
    "val_data = pd.read_csv(valdt_err_term, sep='\\n',header=None)"
   ]
  },
  {
   "cell_type": "markdown",
   "metadata": {},
   "source": [
    "#### 3.2 Do T-test, F-test, and χ2-test."
   ]
  },
  {
   "cell_type": "code",
   "execution_count": 47,
   "metadata": {},
   "outputs": [
    {
     "data": {
      "text/plain": [
       "1.4537051171246232e-50"
      ]
     },
     "execution_count": 47,
     "metadata": {},
     "output_type": "execute_result"
    }
   ],
   "source": [
    "scipy.stats.ttest_ind(train_data, val_data).pvalue[0]"
   ]
  },
  {
   "cell_type": "code",
   "execution_count": 48,
   "metadata": {},
   "outputs": [
    {
     "data": {
      "text/plain": [
       "1.4537051171249621e-50"
      ]
     },
     "execution_count": 48,
     "metadata": {},
     "output_type": "execute_result"
    }
   ],
   "source": [
    "scipy.stats.f_oneway(train_data, val_data).pvalue[0]"
   ]
  },
  {
   "cell_type": "code",
   "execution_count": 49,
   "metadata": {},
   "outputs": [
    {
     "data": {
      "text/plain": [
       "0.0"
      ]
     },
     "execution_count": 49,
     "metadata": {},
     "output_type": "execute_result"
    }
   ],
   "source": [
    "scipy.stats.chisquare(val_data, train_data).pvalue[0]"
   ]
  },
  {
   "cell_type": "markdown",
   "metadata": {},
   "source": [
    "#### 3.3 Import all the cost-to-go output files for validation data generated by all models."
   ]
  },
  {
   "cell_type": "code",
   "execution_count": 92,
   "metadata": {},
   "outputs": [],
   "source": [
    "compare_dt_nb = 5\n",
    "compare_dt = []\n",
    "compare_dt.append('./data_for_test/DF_Val1.csv')\n",
    "compare_dt.append('./data_for_test/EAE_SAA_Val1.csv')\n",
    "compare_dt.append('./data_for_test/EAE_SD_Val1.csv')\n",
    "compare_dt.append('./data_for_test/NDC_Val1.csv')\n",
    "compare_dt.append('./data_for_test/NDU_Val1.csv')\n",
    "\n",
    "model_types = []\n",
    "for i in range(compare_dt_nb):\n",
    "    model_types.append(os.path.basename(compare_dt[i]).split('.')[0])"
   ]
  },
  {
   "cell_type": "code",
   "execution_count": 93,
   "metadata": {},
   "outputs": [
    {
     "data": {
      "text/plain": [
       "['DF_Val1', 'EAE_SAA_Val1', 'EAE_SD_Val1', 'NDC_Val1', 'NDU_Val1']"
      ]
     },
     "execution_count": 93,
     "metadata": {},
     "output_type": "execute_result"
    }
   ],
   "source": [
    "model_types"
   ]
  },
  {
   "cell_type": "markdown",
   "metadata": {},
   "source": [
    "#### 3.4 Do Kruskal-Wallis Test. Draw the stochastic dominance figure to compare different models."
   ]
  },
  {
   "cell_type": "code",
   "execution_count": 94,
   "metadata": {},
   "outputs": [
    {
     "data": {
      "text/html": [
       "<div>\n",
       "<style scoped>\n",
       "    .dataframe tbody tr th:only-of-type {\n",
       "        vertical-align: middle;\n",
       "    }\n",
       "\n",
       "    .dataframe tbody tr th {\n",
       "        vertical-align: top;\n",
       "    }\n",
       "\n",
       "    .dataframe thead th {\n",
       "        text-align: right;\n",
       "    }\n",
       "</style>\n",
       "<table border=\"1\" class=\"dataframe\">\n",
       "  <thead>\n",
       "    <tr style=\"text-align: right;\">\n",
       "      <th></th>\n",
       "      <th>DF_Val1</th>\n",
       "      <th>EAE_SAA_Val1</th>\n",
       "      <th>EAE_SD_Val1</th>\n",
       "      <th>NDC_Val1</th>\n",
       "      <th>NDU_Val1</th>\n",
       "    </tr>\n",
       "  </thead>\n",
       "  <tbody>\n",
       "    <tr>\n",
       "      <th>DF_Val1</th>\n",
       "      <td>NaN</td>\n",
       "      <td>NaN</td>\n",
       "      <td>NaN</td>\n",
       "      <td>NaN</td>\n",
       "      <td>NaN</td>\n",
       "    </tr>\n",
       "    <tr>\n",
       "      <th>EAE_SAA_Val1</th>\n",
       "      <td>5.16989e-33</td>\n",
       "      <td>NaN</td>\n",
       "      <td>NaN</td>\n",
       "      <td>NaN</td>\n",
       "      <td>NaN</td>\n",
       "    </tr>\n",
       "    <tr>\n",
       "      <th>EAE_SD_Val1</th>\n",
       "      <td>5.1721e-33</td>\n",
       "      <td>2.91255e-12</td>\n",
       "      <td>NaN</td>\n",
       "      <td>NaN</td>\n",
       "      <td>NaN</td>\n",
       "    </tr>\n",
       "    <tr>\n",
       "      <th>NDC_Val1</th>\n",
       "      <td>5.17084e-33</td>\n",
       "      <td>0.863885</td>\n",
       "      <td>8.75078e-14</td>\n",
       "      <td>NaN</td>\n",
       "      <td>NaN</td>\n",
       "    </tr>\n",
       "    <tr>\n",
       "      <th>NDU_Val1</th>\n",
       "      <td>5.17084e-33</td>\n",
       "      <td>0.366734</td>\n",
       "      <td>8.31858e-16</td>\n",
       "      <td>0.210583</td>\n",
       "      <td>NaN</td>\n",
       "    </tr>\n",
       "  </tbody>\n",
       "</table>\n",
       "</div>"
      ],
      "text/plain": [
       "                  DF_Val1 EAE_SAA_Val1  EAE_SD_Val1  NDC_Val1 NDU_Val1\n",
       "DF_Val1               NaN          NaN          NaN       NaN      NaN\n",
       "EAE_SAA_Val1  5.16989e-33          NaN          NaN       NaN      NaN\n",
       "EAE_SD_Val1    5.1721e-33  2.91255e-12          NaN       NaN      NaN\n",
       "NDC_Val1      5.17084e-33     0.863885  8.75078e-14       NaN      NaN\n",
       "NDU_Val1      5.17084e-33     0.366734  8.31858e-16  0.210583      NaN"
      ]
     },
     "execution_count": 94,
     "metadata": {},
     "output_type": "execute_result"
    }
   ],
   "source": [
    "df = DataFrame(index=model_types, columns=model_types)\n",
    "for i in range(compare_dt_nb):\n",
    "    data1 = pd.read_csv(compare_dt[i], sep='\\n',header=None)\n",
    "    for j in range(i + 1, compare_dt_nb):\n",
    "        data2 = pd.read_csv(compare_dt[j], sep='\\n',header=None)\n",
    "        output = scipy.stats.kruskal(data1, data2)\n",
    "        df[model_types[i]][model_types[j]] = output.pvalue\n",
    "df   "
   ]
  },
  {
   "cell_type": "code",
   "execution_count": 96,
   "metadata": {},
   "outputs": [
    {
     "data": {
      "image/png": "[encoded data removed]",
      "text/plain": [
       "<Figure size 432x288 with 1 Axes>"
      ]
     },
     "metadata": {},
     "output_type": "display_data"
    }
   ],
   "source": [
    "for file_path in compare_dt:\n",
    "    data = pd.read_csv(file_path, sep='\\n',header=None)\n",
    "    num_bins = int(np.max(data) - np.min(data))\n",
    "    counts, bin_edges = np.histogram(data, bins=num_bins, normed=True)\n",
    "    cdf = np.cumsum(counts)\n",
    "    plt.plot(bin_edges[1:], cdf / cdf[-1], label=file_path.split('/')[-1])\n",
    "plt.title(\"Frequency of Validated objective functions\")\n",
    "plt.xlabel(\"Validated Objective\")\n",
    "plt.ylabel(\"Cumulative frequency\")\n",
    "plt.legend()\n",
    "fig_name = ''\n",
    "for i in range(compare_dt_nb):\n",
    "    fig_name =  fig_name + '_' + model_types[i]\n",
    "fig_name = 'cdf' + fig_name + '.png'\n",
    "cur = os.getcwd() \n",
    "os.chdir(Path(project_folder/'Val_output_across_run'))\n",
    "plt.savefig(fig_name)"
   ]
  },
  {
   "cell_type": "markdown",
   "metadata": {},
   "source": [
    "The process is summarized in this figure:"
   ]
  },
  {
   "cell_type": "markdown",
   "metadata": {},
   "source": [
    "![guidance](https://github.com/USC3DLAB/learning-based-optimization/blob/master/supporting/guidance.png)"
   ]
  },
  {
   "cell_type": "code",
   "execution_count": null,
   "metadata": {},
   "outputs": [],
   "source": []
  }
 ],
 "metadata": {
  "kernelspec": {
   "display_name": "Python 3",
   "language": "python",
   "name": "python3"
  },
  "language_info": {
   "codemirror_mode": {
    "name": "ipython",
    "version": 3
   },
   "file_extension": ".py",
   "mimetype": "text/x-python",
   "name": "python",
   "nbconvert_exporter": "python",
   "pygments_lexer": "ipython3",
   "version": "3.6.5"
  }
 },
 "nbformat": 4,
 "nbformat_minor": 2
}
